{
 "cells": [
  {
   "cell_type": "markdown",
   "id": "d97a0b4e",
   "metadata": {},
   "source": [
    "---\n",
    "author: Arav Patil, Prajwal Patil & Abhinav Thakur\n",
    "badges: true\n",
    "categories:\n",
    "- Data Manipulation\n",
    "date: '2025-02-14'\n",
    "title: Mastering Data Manipulation in R with dplyr\n",
    "toc: true\n",
    "---"
   ]
  },
  {
   "cell_type": "code",
   "execution_count": 2,
   "id": "40275236-4def-43ce-9a0d-210daddbb064",
   "metadata": {
    "scrolled": true,
    "vscode": {
     "languageId": "r"
    }
   },
   "outputs": [
    {
     "name": "stderr",
     "output_type": "stream",
     "text": [
      "\n",
      "Attaching package: 'dplyr'\n",
      "\n",
      "\n",
      "The following objects are masked from 'package:stats':\n",
      "\n",
      "    filter, lag\n",
      "\n",
      "\n",
      "The following objects are masked from 'package:base':\n",
      "\n",
      "    intersect, setdiff, setequal, union\n",
      "\n",
      "\n"
     ]
    }
   ],
   "source": [
    "library(dplyr) #Importing the required library"
   ]
  },
  {
   "cell_type": "markdown",
   "id": "abe61add-877c-4666-9ff7-f8983a76e47d",
   "metadata": {},
   "source": [
    "USE CASES"
   ]
  },
  {
   "cell_type": "markdown",
   "id": "e6133cd5-65cc-48f4-871a-6e2f41747013",
   "metadata": {},
   "source": [
    "1) Exploratory Data Analysis (EDA)\n",
    "\n",
    "EDA is the process of understanding and summarizing datasets before applying further analysis.\n",
    "\n",
    "Let's take a look at this using an example."
   ]
  },
  {
   "cell_type": "code",
   "execution_count": 3,
   "id": "1c74e1ff-72de-481d-9eb4-5f70deba8364",
   "metadata": {
    "vscode": {
     "languageId": "r"
    }
   },
   "outputs": [
    {
     "data": {
      "text/html": [
       "<table class=\"dataframe\">\n",
       "<caption>A data.frame: 6 × 5</caption>\n",
       "<thead>\n",
       "\t<tr><th></th><th scope=col>customer_id</th><th scope=col>age</th><th scope=col>gender</th><th scope=col>spending</th><th scope=col>location</th></tr>\n",
       "\t<tr><th></th><th scope=col>&lt;int&gt;</th><th scope=col>&lt;dbl&gt;</th><th scope=col>&lt;chr&gt;</th><th scope=col>&lt;dbl&gt;</th><th scope=col>&lt;chr&gt;</th></tr>\n",
       "</thead>\n",
       "<tbody>\n",
       "\t<tr><th scope=row>1</th><td>1</td><td>25</td><td>Male  </td><td> 500</td><td>New York    </td></tr>\n",
       "\t<tr><th scope=row>2</th><td>2</td><td>34</td><td>Female</td><td> 700</td><td>Los Angeles </td></tr>\n",
       "\t<tr><th scope=row>3</th><td>3</td><td>22</td><td>Male  </td><td> 300</td><td>Chicago     </td></tr>\n",
       "\t<tr><th scope=row>4</th><td>4</td><td>45</td><td>Female</td><td>1000</td><td>Houston     </td></tr>\n",
       "\t<tr><th scope=row>5</th><td>5</td><td>54</td><td>Male  </td><td> 200</td><td>Phoenix     </td></tr>\n",
       "\t<tr><th scope=row>6</th><td>6</td><td>31</td><td>Female</td><td> 450</td><td>Philadelphia</td></tr>\n",
       "</tbody>\n",
       "</table>\n"
      ],
      "text/latex": [
       "A data.frame: 6 × 5\n",
       "\\begin{tabular}{r|lllll}\n",
       "  & customer\\_id & age & gender & spending & location\\\\\n",
       "  & <int> & <dbl> & <chr> & <dbl> & <chr>\\\\\n",
       "\\hline\n",
       "\t1 & 1 & 25 & Male   &  500 & New York    \\\\\n",
       "\t2 & 2 & 34 & Female &  700 & Los Angeles \\\\\n",
       "\t3 & 3 & 22 & Male   &  300 & Chicago     \\\\\n",
       "\t4 & 4 & 45 & Female & 1000 & Houston     \\\\\n",
       "\t5 & 5 & 54 & Male   &  200 & Phoenix     \\\\\n",
       "\t6 & 6 & 31 & Female &  450 & Philadelphia\\\\\n",
       "\\end{tabular}\n"
      ],
      "text/markdown": [
       "\n",
       "A data.frame: 6 × 5\n",
       "\n",
       "| <!--/--> | customer_id &lt;int&gt; | age &lt;dbl&gt; | gender &lt;chr&gt; | spending &lt;dbl&gt; | location &lt;chr&gt; |\n",
       "|---|---|---|---|---|---|\n",
       "| 1 | 1 | 25 | Male   |  500 | New York     |\n",
       "| 2 | 2 | 34 | Female |  700 | Los Angeles  |\n",
       "| 3 | 3 | 22 | Male   |  300 | Chicago      |\n",
       "| 4 | 4 | 45 | Female | 1000 | Houston      |\n",
       "| 5 | 5 | 54 | Male   |  200 | Phoenix      |\n",
       "| 6 | 6 | 31 | Female |  450 | Philadelphia |\n",
       "\n"
      ],
      "text/plain": [
       "  customer_id age gender spending location    \n",
       "1 1           25  Male    500     New York    \n",
       "2 2           34  Female  700     Los Angeles \n",
       "3 3           22  Male    300     Chicago     \n",
       "4 4           45  Female 1000     Houston     \n",
       "5 5           54  Male    200     Phoenix     \n",
       "6 6           31  Female  450     Philadelphia"
      ]
     },
     "metadata": {},
     "output_type": "display_data"
    }
   ],
   "source": [
    "#Consider we have a dataset 'customers_data', that we wish to analyze.\n",
    "\n",
    "customers_data <- data.frame(\n",
    "  customer_id = 1:20,  # Unique customer IDs\n",
    "  age = c(25, 34, 22, 45, 54, 31, 29, 38, 40, 27, \n",
    "          33, 50, 23, 44, 37, 41, 48, 30, 26, 39), # Age of customers\n",
    "  gender = c(\"Male\", \"Female\", \"Male\", \"Female\", \"Male\", \"Female\", \"Male\", \n",
    "             \"Female\", \"Male\", \"Female\", \"Male\", \"Female\", \"Male\", \"Female\", \n",
    "             \"Male\", \"Female\", \"Male\", \"Female\", \"Male\", \"Female\"), # Gender\n",
    "  spending = c(500, 700, 300, 1000, 200, 450, 650, 800, 950, 720,\n",
    "               680, 900, 300, 400, 750, 850, 1200, 500, 310, 600), # Spending amount\n",
    "  location = c(\"New York\", \"Los Angeles\", \"Chicago\", \"Houston\", \"Phoenix\", \n",
    "               \"Philadelphia\", \"San Antonio\", \"San Diego\", \"Dallas\", \"San Jose\",\n",
    "               \"Austin\", \"Jacksonville\", \"Fort Worth\", \"Columbus\", \"Charlotte\", \n",
    "               \"Indianapolis\", \"Seattle\", \"Denver\", \"Washington\", \"Boston\") # City\n",
    ")\n",
    "\n",
    "#Viewing the first few rows of that data frame. \n",
    "head(customers_data)\n"
   ]
  },
  {
   "cell_type": "code",
   "execution_count": 4,
   "id": "8a1cfcac-932d-4827-b6a0-a4a934c1c581",
   "metadata": {
    "vscode": {
     "languageId": "r"
    }
   },
   "outputs": [
    {
     "data": {
      "text/plain": [
       "  customer_id         age           gender             spending     \n",
       " Min.   : 1.00   Min.   :22.00   Length:20          Min.   : 200.0  \n",
       " 1st Qu.: 5.75   1st Qu.:28.50   Class :character   1st Qu.: 437.5  \n",
       " Median :10.50   Median :35.50   Mode  :character   Median : 665.0  \n",
       " Mean   :10.50   Mean   :35.80                      Mean   : 638.0  \n",
       " 3rd Qu.:15.25   3rd Qu.:41.75                      3rd Qu.: 812.5  \n",
       " Max.   :20.00   Max.   :54.00                      Max.   :1200.0  \n",
       "   location        \n",
       " Length:20         \n",
       " Class :character  \n",
       " Mode  :character  \n",
       "                   \n",
       "                   \n",
       "                   "
      ]
     },
     "metadata": {},
     "output_type": "display_data"
    }
   ],
   "source": [
    "#Function 1: Checking the data summary:\n",
    "summary(customers_data)"
   ]
  },
  {
   "cell_type": "code",
   "execution_count": 5,
   "id": "4d567b74-b847-4ae2-b413-594c791bb59b",
   "metadata": {
    "vscode": {
     "languageId": "r"
    }
   },
   "outputs": [
    {
     "data": {
      "text/html": [
       "<table class=\"dataframe\">\n",
       "<caption>A data.frame: 1 × 5</caption>\n",
       "<thead>\n",
       "\t<tr><th scope=col>customer_id</th><th scope=col>age</th><th scope=col>gender</th><th scope=col>spending</th><th scope=col>location</th></tr>\n",
       "\t<tr><th scope=col>&lt;int&gt;</th><th scope=col>&lt;int&gt;</th><th scope=col>&lt;int&gt;</th><th scope=col>&lt;int&gt;</th><th scope=col>&lt;int&gt;</th></tr>\n",
       "</thead>\n",
       "<tbody>\n",
       "\t<tr><td>0</td><td>0</td><td>0</td><td>0</td><td>0</td></tr>\n",
       "</tbody>\n",
       "</table>\n"
      ],
      "text/latex": [
       "A data.frame: 1 × 5\n",
       "\\begin{tabular}{lllll}\n",
       " customer\\_id & age & gender & spending & location\\\\\n",
       " <int> & <int> & <int> & <int> & <int>\\\\\n",
       "\\hline\n",
       "\t 0 & 0 & 0 & 0 & 0\\\\\n",
       "\\end{tabular}\n"
      ],
      "text/markdown": [
       "\n",
       "A data.frame: 1 × 5\n",
       "\n",
       "| customer_id &lt;int&gt; | age &lt;int&gt; | gender &lt;int&gt; | spending &lt;int&gt; | location &lt;int&gt; |\n",
       "|---|---|---|---|---|\n",
       "| 0 | 0 | 0 | 0 | 0 |\n",
       "\n"
      ],
      "text/plain": [
       "  customer_id age gender spending location\n",
       "1 0           0   0      0        0       "
      ]
     },
     "metadata": {},
     "output_type": "display_data"
    }
   ],
   "source": [
    "#Function 2: We can also find the missing values using 1 line of code!\n",
    "\n",
    "customers_data %>% summarise_all(~sum(is.na(.)))"
   ]
  },
  {
   "cell_type": "markdown",
   "id": "603ff5f9-367b-4784-83f4-1369da206c04",
   "metadata": {},
   "source": [
    "It doesn't have any missing values :)"
   ]
  },
  {
   "cell_type": "code",
   "execution_count": 6,
   "id": "b9b47567-fce3-43fc-95dc-7245ce77700c",
   "metadata": {
    "vscode": {
     "languageId": "r"
    }
   },
   "outputs": [
    {
     "data": {
      "text/html": [
       "<table class=\"dataframe\">\n",
       "<caption>A tibble: 20 × 2</caption>\n",
       "<thead>\n",
       "\t<tr><th scope=col>age</th><th scope=col>count</th></tr>\n",
       "\t<tr><th scope=col>&lt;dbl&gt;</th><th scope=col>&lt;int&gt;</th></tr>\n",
       "</thead>\n",
       "<tbody>\n",
       "\t<tr><td>22</td><td>1</td></tr>\n",
       "\t<tr><td>23</td><td>1</td></tr>\n",
       "\t<tr><td>25</td><td>1</td></tr>\n",
       "\t<tr><td>26</td><td>1</td></tr>\n",
       "\t<tr><td>27</td><td>1</td></tr>\n",
       "\t<tr><td>29</td><td>1</td></tr>\n",
       "\t<tr><td>30</td><td>1</td></tr>\n",
       "\t<tr><td>31</td><td>1</td></tr>\n",
       "\t<tr><td>33</td><td>1</td></tr>\n",
       "\t<tr><td>34</td><td>1</td></tr>\n",
       "\t<tr><td>37</td><td>1</td></tr>\n",
       "\t<tr><td>38</td><td>1</td></tr>\n",
       "\t<tr><td>39</td><td>1</td></tr>\n",
       "\t<tr><td>40</td><td>1</td></tr>\n",
       "\t<tr><td>41</td><td>1</td></tr>\n",
       "\t<tr><td>44</td><td>1</td></tr>\n",
       "\t<tr><td>45</td><td>1</td></tr>\n",
       "\t<tr><td>48</td><td>1</td></tr>\n",
       "\t<tr><td>50</td><td>1</td></tr>\n",
       "\t<tr><td>54</td><td>1</td></tr>\n",
       "</tbody>\n",
       "</table>\n"
      ],
      "text/latex": [
       "A tibble: 20 × 2\n",
       "\\begin{tabular}{ll}\n",
       " age & count\\\\\n",
       " <dbl> & <int>\\\\\n",
       "\\hline\n",
       "\t 22 & 1\\\\\n",
       "\t 23 & 1\\\\\n",
       "\t 25 & 1\\\\\n",
       "\t 26 & 1\\\\\n",
       "\t 27 & 1\\\\\n",
       "\t 29 & 1\\\\\n",
       "\t 30 & 1\\\\\n",
       "\t 31 & 1\\\\\n",
       "\t 33 & 1\\\\\n",
       "\t 34 & 1\\\\\n",
       "\t 37 & 1\\\\\n",
       "\t 38 & 1\\\\\n",
       "\t 39 & 1\\\\\n",
       "\t 40 & 1\\\\\n",
       "\t 41 & 1\\\\\n",
       "\t 44 & 1\\\\\n",
       "\t 45 & 1\\\\\n",
       "\t 48 & 1\\\\\n",
       "\t 50 & 1\\\\\n",
       "\t 54 & 1\\\\\n",
       "\\end{tabular}\n"
      ],
      "text/markdown": [
       "\n",
       "A tibble: 20 × 2\n",
       "\n",
       "| age &lt;dbl&gt; | count &lt;int&gt; |\n",
       "|---|---|\n",
       "| 22 | 1 |\n",
       "| 23 | 1 |\n",
       "| 25 | 1 |\n",
       "| 26 | 1 |\n",
       "| 27 | 1 |\n",
       "| 29 | 1 |\n",
       "| 30 | 1 |\n",
       "| 31 | 1 |\n",
       "| 33 | 1 |\n",
       "| 34 | 1 |\n",
       "| 37 | 1 |\n",
       "| 38 | 1 |\n",
       "| 39 | 1 |\n",
       "| 40 | 1 |\n",
       "| 41 | 1 |\n",
       "| 44 | 1 |\n",
       "| 45 | 1 |\n",
       "| 48 | 1 |\n",
       "| 50 | 1 |\n",
       "| 54 | 1 |\n",
       "\n"
      ],
      "text/plain": [
       "   age count\n",
       "1  22  1    \n",
       "2  23  1    \n",
       "3  25  1    \n",
       "4  26  1    \n",
       "5  27  1    \n",
       "6  29  1    \n",
       "7  30  1    \n",
       "8  31  1    \n",
       "9  33  1    \n",
       "10 34  1    \n",
       "11 37  1    \n",
       "12 38  1    \n",
       "13 39  1    \n",
       "14 40  1    \n",
       "15 41  1    \n",
       "16 44  1    \n",
       "17 45  1    \n",
       "18 48  1    \n",
       "19 50  1    \n",
       "20 54  1    "
      ]
     },
     "metadata": {},
     "output_type": "display_data"
    }
   ],
   "source": [
    "#Function 3: We can also check the age distribution (any distri. for that matter)\n",
    "\n",
    "customers_data %>% \n",
    "  group_by(age) %>% \n",
    "  summarise(count = n()) %>% \n",
    "  arrange(desc(count))"
   ]
  },
  {
   "cell_type": "code",
   "execution_count": 7,
   "id": "1daac9f1-7f96-41dd-9d14-6d61980025b4",
   "metadata": {
    "vscode": {
     "languageId": "r"
    }
   },
   "outputs": [
    {
     "data": {
      "text/html": [
       "<table class=\"dataframe\">\n",
       "<caption>A tibble: 2 × 2</caption>\n",
       "<thead>\n",
       "\t<tr><th scope=col>gender</th><th scope=col>avg_spending</th></tr>\n",
       "\t<tr><th scope=col>&lt;chr&gt;</th><th scope=col>&lt;dbl&gt;</th></tr>\n",
       "</thead>\n",
       "<tbody>\n",
       "\t<tr><td>Female</td><td>692</td></tr>\n",
       "\t<tr><td>Male  </td><td>584</td></tr>\n",
       "</tbody>\n",
       "</table>\n"
      ],
      "text/latex": [
       "A tibble: 2 × 2\n",
       "\\begin{tabular}{ll}\n",
       " gender & avg\\_spending\\\\\n",
       " <chr> & <dbl>\\\\\n",
       "\\hline\n",
       "\t Female & 692\\\\\n",
       "\t Male   & 584\\\\\n",
       "\\end{tabular}\n"
      ],
      "text/markdown": [
       "\n",
       "A tibble: 2 × 2\n",
       "\n",
       "| gender &lt;chr&gt; | avg_spending &lt;dbl&gt; |\n",
       "|---|---|\n",
       "| Female | 692 |\n",
       "| Male   | 584 |\n",
       "\n"
      ],
      "text/plain": [
       "  gender avg_spending\n",
       "1 Female 692         \n",
       "2 Male   584         "
      ]
     },
     "metadata": {},
     "output_type": "display_data"
    },
    {
     "data": {
      "text/html": [
       "<table class=\"dataframe\">\n",
       "<caption>A data.frame: 10 × 5</caption>\n",
       "<thead>\n",
       "\t<tr><th></th><th scope=col>customer_id</th><th scope=col>age</th><th scope=col>gender</th><th scope=col>spending</th><th scope=col>location</th></tr>\n",
       "\t<tr><th></th><th scope=col>&lt;int&gt;</th><th scope=col>&lt;dbl&gt;</th><th scope=col>&lt;chr&gt;</th><th scope=col>&lt;dbl&gt;</th><th scope=col>&lt;chr&gt;</th></tr>\n",
       "</thead>\n",
       "<tbody>\n",
       "\t<tr><th scope=row>1</th><td>17</td><td>48</td><td>Male  </td><td>1200</td><td>Seattle     </td></tr>\n",
       "\t<tr><th scope=row>2</th><td> 4</td><td>45</td><td>Female</td><td>1000</td><td>Houston     </td></tr>\n",
       "\t<tr><th scope=row>3</th><td> 9</td><td>40</td><td>Male  </td><td> 950</td><td>Dallas      </td></tr>\n",
       "\t<tr><th scope=row>4</th><td>12</td><td>50</td><td>Female</td><td> 900</td><td>Jacksonville</td></tr>\n",
       "\t<tr><th scope=row>5</th><td>16</td><td>41</td><td>Female</td><td> 850</td><td>Indianapolis</td></tr>\n",
       "\t<tr><th scope=row>6</th><td> 8</td><td>38</td><td>Female</td><td> 800</td><td>San Diego   </td></tr>\n",
       "\t<tr><th scope=row>7</th><td>15</td><td>37</td><td>Male  </td><td> 750</td><td>Charlotte   </td></tr>\n",
       "\t<tr><th scope=row>8</th><td>10</td><td>27</td><td>Female</td><td> 720</td><td>San Jose    </td></tr>\n",
       "\t<tr><th scope=row>9</th><td> 2</td><td>34</td><td>Female</td><td> 700</td><td>Los Angeles </td></tr>\n",
       "\t<tr><th scope=row>10</th><td>11</td><td>33</td><td>Male  </td><td> 680</td><td>Austin      </td></tr>\n",
       "</tbody>\n",
       "</table>\n"
      ],
      "text/latex": [
       "A data.frame: 10 × 5\n",
       "\\begin{tabular}{r|lllll}\n",
       "  & customer\\_id & age & gender & spending & location\\\\\n",
       "  & <int> & <dbl> & <chr> & <dbl> & <chr>\\\\\n",
       "\\hline\n",
       "\t1 & 17 & 48 & Male   & 1200 & Seattle     \\\\\n",
       "\t2 &  4 & 45 & Female & 1000 & Houston     \\\\\n",
       "\t3 &  9 & 40 & Male   &  950 & Dallas      \\\\\n",
       "\t4 & 12 & 50 & Female &  900 & Jacksonville\\\\\n",
       "\t5 & 16 & 41 & Female &  850 & Indianapolis\\\\\n",
       "\t6 &  8 & 38 & Female &  800 & San Diego   \\\\\n",
       "\t7 & 15 & 37 & Male   &  750 & Charlotte   \\\\\n",
       "\t8 & 10 & 27 & Female &  720 & San Jose    \\\\\n",
       "\t9 &  2 & 34 & Female &  700 & Los Angeles \\\\\n",
       "\t10 & 11 & 33 & Male   &  680 & Austin      \\\\\n",
       "\\end{tabular}\n"
      ],
      "text/markdown": [
       "\n",
       "A data.frame: 10 × 5\n",
       "\n",
       "| <!--/--> | customer_id &lt;int&gt; | age &lt;dbl&gt; | gender &lt;chr&gt; | spending &lt;dbl&gt; | location &lt;chr&gt; |\n",
       "|---|---|---|---|---|---|\n",
       "| 1 | 17 | 48 | Male   | 1200 | Seattle      |\n",
       "| 2 |  4 | 45 | Female | 1000 | Houston      |\n",
       "| 3 |  9 | 40 | Male   |  950 | Dallas       |\n",
       "| 4 | 12 | 50 | Female |  900 | Jacksonville |\n",
       "| 5 | 16 | 41 | Female |  850 | Indianapolis |\n",
       "| 6 |  8 | 38 | Female |  800 | San Diego    |\n",
       "| 7 | 15 | 37 | Male   |  750 | Charlotte    |\n",
       "| 8 | 10 | 27 | Female |  720 | San Jose     |\n",
       "| 9 |  2 | 34 | Female |  700 | Los Angeles  |\n",
       "| 10 | 11 | 33 | Male   |  680 | Austin       |\n",
       "\n"
      ],
      "text/plain": [
       "   customer_id age gender spending location    \n",
       "1  17          48  Male   1200     Seattle     \n",
       "2   4          45  Female 1000     Houston     \n",
       "3   9          40  Male    950     Dallas      \n",
       "4  12          50  Female  900     Jacksonville\n",
       "5  16          41  Female  850     Indianapolis\n",
       "6   8          38  Female  800     San Diego   \n",
       "7  15          37  Male    750     Charlotte   \n",
       "8  10          27  Female  720     San Jose    \n",
       "9   2          34  Female  700     Los Angeles \n",
       "10 11          33  Male    680     Austin      "
      ]
     },
     "metadata": {},
     "output_type": "display_data"
    }
   ],
   "source": [
    "#Function 4: Let's say we wish to analyze spendings by gender and find the top spending customers.\n",
    "\n",
    "customers_data %>% \n",
    "  group_by(gender) %>% \n",
    "  summarise(avg_spending = mean(spending, na.rm = TRUE))\n",
    "\n",
    "customers_data %>% \n",
    "  arrange(desc(spending)) %>% \n",
    "  head(10) #prints the top 10 consumers\n"
   ]
  },
  {
   "cell_type": "markdown",
   "id": "0a1e98ce-2bcb-492f-ab30-213392b84c25",
   "metadata": {},
   "source": [
    "2) Business Analytics\n",
    "\n",
    "   Business analytics helps companies make data-driven decisions by analyzing revenue,       sales trends, and profits."
   ]
  },
  {
   "cell_type": "code",
   "execution_count": 8,
   "id": "4ff85f00-8144-4026-856e-ec871e1fb818",
   "metadata": {
    "vscode": {
     "languageId": "r"
    }
   },
   "outputs": [
    {
     "data": {
      "text/html": [
       "<table class=\"dataframe\">\n",
       "<caption>A data.frame: 6 × 6</caption>\n",
       "<thead>\n",
       "\t<tr><th></th><th scope=col>date</th><th scope=col>product</th><th scope=col>category</th><th scope=col>region</th><th scope=col>sales</th><th scope=col>profit</th></tr>\n",
       "\t<tr><th></th><th scope=col>&lt;date&gt;</th><th scope=col>&lt;chr&gt;</th><th scope=col>&lt;chr&gt;</th><th scope=col>&lt;chr&gt;</th><th scope=col>&lt;dbl&gt;</th><th scope=col>&lt;dbl&gt;</th></tr>\n",
       "</thead>\n",
       "<tbody>\n",
       "\t<tr><th scope=row>1</th><td>2024-01-01</td><td>Laptop    </td><td>Electronics</td><td>North</td><td>1500</td><td>300</td></tr>\n",
       "\t<tr><th scope=row>2</th><td>2024-01-02</td><td>Smartphone</td><td>Electronics</td><td>South</td><td>2000</td><td>400</td></tr>\n",
       "\t<tr><th scope=row>3</th><td>2024-01-03</td><td>Tablet    </td><td>Electronics</td><td>East </td><td>1200</td><td>250</td></tr>\n",
       "\t<tr><th scope=row>4</th><td>2024-01-04</td><td>Smartwatch</td><td>Wearables  </td><td>West </td><td> 800</td><td>100</td></tr>\n",
       "\t<tr><th scope=row>5</th><td>2024-01-05</td><td>Headphones</td><td>Accessories</td><td>North</td><td> 500</td><td> 80</td></tr>\n",
       "\t<tr><th scope=row>6</th><td>2024-01-06</td><td>Laptop    </td><td>Electronics</td><td>South</td><td>1600</td><td>320</td></tr>\n",
       "</tbody>\n",
       "</table>\n"
      ],
      "text/latex": [
       "A data.frame: 6 × 6\n",
       "\\begin{tabular}{r|llllll}\n",
       "  & date & product & category & region & sales & profit\\\\\n",
       "  & <date> & <chr> & <chr> & <chr> & <dbl> & <dbl>\\\\\n",
       "\\hline\n",
       "\t1 & 2024-01-01 & Laptop     & Electronics & North & 1500 & 300\\\\\n",
       "\t2 & 2024-01-02 & Smartphone & Electronics & South & 2000 & 400\\\\\n",
       "\t3 & 2024-01-03 & Tablet     & Electronics & East  & 1200 & 250\\\\\n",
       "\t4 & 2024-01-04 & Smartwatch & Wearables   & West  &  800 & 100\\\\\n",
       "\t5 & 2024-01-05 & Headphones & Accessories & North &  500 &  80\\\\\n",
       "\t6 & 2024-01-06 & Laptop     & Electronics & South & 1600 & 320\\\\\n",
       "\\end{tabular}\n"
      ],
      "text/markdown": [
       "\n",
       "A data.frame: 6 × 6\n",
       "\n",
       "| <!--/--> | date &lt;date&gt; | product &lt;chr&gt; | category &lt;chr&gt; | region &lt;chr&gt; | sales &lt;dbl&gt; | profit &lt;dbl&gt; |\n",
       "|---|---|---|---|---|---|---|\n",
       "| 1 | 2024-01-01 | Laptop     | Electronics | North | 1500 | 300 |\n",
       "| 2 | 2024-01-02 | Smartphone | Electronics | South | 2000 | 400 |\n",
       "| 3 | 2024-01-03 | Tablet     | Electronics | East  | 1200 | 250 |\n",
       "| 4 | 2024-01-04 | Smartwatch | Wearables   | West  |  800 | 100 |\n",
       "| 5 | 2024-01-05 | Headphones | Accessories | North |  500 |  80 |\n",
       "| 6 | 2024-01-06 | Laptop     | Electronics | South | 1600 | 320 |\n",
       "\n"
      ],
      "text/plain": [
       "  date       product    category    region sales profit\n",
       "1 2024-01-01 Laptop     Electronics North  1500  300   \n",
       "2 2024-01-02 Smartphone Electronics South  2000  400   \n",
       "3 2024-01-03 Tablet     Electronics East   1200  250   \n",
       "4 2024-01-04 Smartwatch Wearables   West    800  100   \n",
       "5 2024-01-05 Headphones Accessories North   500   80   \n",
       "6 2024-01-06 Laptop     Electronics South  1600  320   "
      ]
     },
     "metadata": {},
     "output_type": "display_data"
    }
   ],
   "source": [
    "#Consider a dataset 'sales_data', we can perform data analysis on it.\n",
    "\n",
    "sales_data <- data.frame(\n",
    "  date = as.Date(c(\"2024-01-01\", \"2024-01-02\", \"2024-01-03\", \"2024-01-04\", \"2024-01-05\", \n",
    "                   \"2024-01-06\", \"2024-01-07\", \"2024-01-08\", \"2024-01-09\", \"2024-01-10\",\n",
    "                   \"2024-01-11\", \"2024-01-12\", \"2024-01-13\", \"2024-01-14\", \"2024-01-15\",\n",
    "                   \"2024-01-16\", \"2024-01-17\", \"2024-01-18\", \"2024-01-19\", \"2024-01-20\")),\n",
    "  product = c(\"Laptop\", \"Smartphone\", \"Tablet\", \"Smartwatch\", \"Headphones\",\n",
    "              \"Laptop\", \"Smartphone\", \"Tablet\", \"Smartwatch\", \"Headphones\",\n",
    "              \"Laptop\", \"Smartphone\", \"Tablet\", \"Smartwatch\", \"Headphones\",\n",
    "              \"Laptop\", \"Smartphone\", \"Tablet\", \"Smartwatch\", \"Headphones\"),\n",
    "  category = c(\"Electronics\", \"Electronics\", \"Electronics\", \"Wearables\", \"Accessories\",\n",
    "               \"Electronics\", \"Electronics\", \"Electronics\", \"Wearables\", \"Accessories\",\n",
    "               \"Electronics\", \"Electronics\", \"Electronics\", \"Wearables\", \"Accessories\",\n",
    "               \"Electronics\", \"Electronics\", \"Electronics\", \"Wearables\", \"Accessories\"),\n",
    "  region = c(\"North\", \"South\", \"East\", \"West\", \"North\",\n",
    "             \"South\", \"East\", \"West\", \"North\", \"South\",\n",
    "             \"East\", \"West\", \"North\", \"South\", \"East\",\n",
    "             \"West\", \"North\", \"South\", \"East\", \"West\"),\n",
    "  sales = c(1500, 2000, 1200, 800, 500,\n",
    "            1600, 2100, 1300, 900, 600,\n",
    "            1700, 2200, 1400, 1000, 700,\n",
    "            1800, 2300, 1500, 1100, 800),\n",
    "  profit = c(300, 400, 250, 100, 80,\n",
    "             320, 420, 260, 120, 90,\n",
    "             350, 450, 270, 130, 100,\n",
    "             380, 470, 280, 140, 120)\n",
    ")\n",
    "\n",
    "# Prints the first few rows of the dataset.\n",
    "head(sales_data)"
   ]
  },
  {
   "cell_type": "code",
   "execution_count": 9,
   "id": "f2219b9f-4415-451f-bf2f-83a43c3c9893",
   "metadata": {
    "vscode": {
     "languageId": "r"
    }
   },
   "outputs": [
    {
     "data": {
      "text/html": [
       "<table class=\"dataframe\">\n",
       "<caption>A tibble: 5 × 2</caption>\n",
       "<thead>\n",
       "\t<tr><th scope=col>product</th><th scope=col>total_sales</th></tr>\n",
       "\t<tr><th scope=col>&lt;chr&gt;</th><th scope=col>&lt;dbl&gt;</th></tr>\n",
       "</thead>\n",
       "<tbody>\n",
       "\t<tr><td>Smartphone</td><td>8600</td></tr>\n",
       "\t<tr><td>Laptop    </td><td>6600</td></tr>\n",
       "\t<tr><td>Tablet    </td><td>5400</td></tr>\n",
       "\t<tr><td>Smartwatch</td><td>3800</td></tr>\n",
       "\t<tr><td>Headphones</td><td>2600</td></tr>\n",
       "</tbody>\n",
       "</table>\n"
      ],
      "text/latex": [
       "A tibble: 5 × 2\n",
       "\\begin{tabular}{ll}\n",
       " product & total\\_sales\\\\\n",
       " <chr> & <dbl>\\\\\n",
       "\\hline\n",
       "\t Smartphone & 8600\\\\\n",
       "\t Laptop     & 6600\\\\\n",
       "\t Tablet     & 5400\\\\\n",
       "\t Smartwatch & 3800\\\\\n",
       "\t Headphones & 2600\\\\\n",
       "\\end{tabular}\n"
      ],
      "text/markdown": [
       "\n",
       "A tibble: 5 × 2\n",
       "\n",
       "| product &lt;chr&gt; | total_sales &lt;dbl&gt; |\n",
       "|---|---|\n",
       "| Smartphone | 8600 |\n",
       "| Laptop     | 6600 |\n",
       "| Tablet     | 5400 |\n",
       "| Smartwatch | 3800 |\n",
       "| Headphones | 2600 |\n",
       "\n"
      ],
      "text/plain": [
       "  product    total_sales\n",
       "1 Smartphone 8600       \n",
       "2 Laptop     6600       \n",
       "3 Tablet     5400       \n",
       "4 Smartwatch 3800       \n",
       "5 Headphones 2600       "
      ]
     },
     "metadata": {},
     "output_type": "display_data"
    }
   ],
   "source": [
    "#Analysis 1: Best selling product.\n",
    "\n",
    "sales_data %>% \n",
    "  group_by(product) %>% \n",
    "  summarise(total_sales = sum(sales)) %>% \n",
    "  arrange(desc(total_sales)) %>% \n",
    "  head(5) #Top 5 best-selling products."
   ]
  },
  {
   "cell_type": "code",
   "execution_count": 10,
   "id": "999153be-a5f4-425f-ad9d-ac7247f679b5",
   "metadata": {
    "vscode": {
     "languageId": "r"
    }
   },
   "outputs": [
    {
     "data": {
      "text/html": [
       "<table class=\"dataframe\">\n",
       "<caption>A tibble: 1 × 2</caption>\n",
       "<thead>\n",
       "\t<tr><th scope=col>month</th><th scope=col>total_sales</th></tr>\n",
       "\t<tr><th scope=col>&lt;chr&gt;</th><th scope=col>&lt;dbl&gt;</th></tr>\n",
       "</thead>\n",
       "<tbody>\n",
       "\t<tr><td>2024-01</td><td>27000</td></tr>\n",
       "</tbody>\n",
       "</table>\n"
      ],
      "text/latex": [
       "A tibble: 1 × 2\n",
       "\\begin{tabular}{ll}\n",
       " month & total\\_sales\\\\\n",
       " <chr> & <dbl>\\\\\n",
       "\\hline\n",
       "\t 2024-01 & 27000\\\\\n",
       "\\end{tabular}\n"
      ],
      "text/markdown": [
       "\n",
       "A tibble: 1 × 2\n",
       "\n",
       "| month &lt;chr&gt; | total_sales &lt;dbl&gt; |\n",
       "|---|---|\n",
       "| 2024-01 | 27000 |\n",
       "\n"
      ],
      "text/plain": [
       "  month   total_sales\n",
       "1 2024-01 27000      "
      ]
     },
     "metadata": {},
     "output_type": "display_data"
    }
   ],
   "source": [
    "#Analysis 2: Monthly sales trend.\n",
    "\n",
    "sales_data %>% \n",
    "  mutate(month = format(as.Date(date), \"%Y-%m\")) %>%  # Extract year-month\n",
    "  group_by(month) %>% \n",
    "  summarise(total_sales = sum(sales)) %>% \n",
    "  arrange(month)"
   ]
  },
  {
   "cell_type": "code",
   "execution_count": 11,
   "id": "f4029958-22bd-4440-8979-bee7d9d4f5d0",
   "metadata": {
    "vscode": {
     "languageId": "r"
    }
   },
   "outputs": [
    {
     "data": {
      "text/html": [
       "<table class=\"dataframe\">\n",
       "<caption>A tibble: 4 × 3</caption>\n",
       "<thead>\n",
       "\t<tr><th scope=col>region</th><th scope=col>total_sales</th><th scope=col>total_profit</th></tr>\n",
       "\t<tr><th scope=col>&lt;chr&gt;</th><th scope=col>&lt;dbl&gt;</th><th scope=col>&lt;dbl&gt;</th></tr>\n",
       "</thead>\n",
       "<tbody>\n",
       "\t<tr><td>West </td><td>6900</td><td>1310</td></tr>\n",
       "\t<tr><td>East </td><td>6800</td><td>1260</td></tr>\n",
       "\t<tr><td>South</td><td>6700</td><td>1220</td></tr>\n",
       "\t<tr><td>North</td><td>6600</td><td>1240</td></tr>\n",
       "</tbody>\n",
       "</table>\n"
      ],
      "text/latex": [
       "A tibble: 4 × 3\n",
       "\\begin{tabular}{lll}\n",
       " region & total\\_sales & total\\_profit\\\\\n",
       " <chr> & <dbl> & <dbl>\\\\\n",
       "\\hline\n",
       "\t West  & 6900 & 1310\\\\\n",
       "\t East  & 6800 & 1260\\\\\n",
       "\t South & 6700 & 1220\\\\\n",
       "\t North & 6600 & 1240\\\\\n",
       "\\end{tabular}\n"
      ],
      "text/markdown": [
       "\n",
       "A tibble: 4 × 3\n",
       "\n",
       "| region &lt;chr&gt; | total_sales &lt;dbl&gt; | total_profit &lt;dbl&gt; |\n",
       "|---|---|---|\n",
       "| West  | 6900 | 1310 |\n",
       "| East  | 6800 | 1260 |\n",
       "| South | 6700 | 1220 |\n",
       "| North | 6600 | 1240 |\n",
       "\n"
      ],
      "text/plain": [
       "  region total_sales total_profit\n",
       "1 West   6900        1310        \n",
       "2 East   6800        1260        \n",
       "3 South  6700        1220        \n",
       "4 North  6600        1240        "
      ]
     },
     "metadata": {},
     "output_type": "display_data"
    }
   ],
   "source": [
    "#Analysis 3: Best performing regions\n",
    "\n",
    "sales_data %>% \n",
    "  group_by(region) %>% \n",
    "  summarise(total_sales = sum(sales), total_profit = sum(profit)) %>% \n",
    "  arrange(desc(total_sales))"
   ]
  },
  {
   "cell_type": "code",
   "execution_count": 12,
   "id": "2fae8393-f38e-4898-94c1-a7f8b8ad1437",
   "metadata": {
    "vscode": {
     "languageId": "r"
    }
   },
   "outputs": [
    {
     "data": {
      "text/html": [
       "<table class=\"dataframe\">\n",
       "<caption>A tibble: 3 × 2</caption>\n",
       "<thead>\n",
       "\t<tr><th scope=col>category</th><th scope=col>total_sales</th></tr>\n",
       "\t<tr><th scope=col>&lt;chr&gt;</th><th scope=col>&lt;dbl&gt;</th></tr>\n",
       "</thead>\n",
       "<tbody>\n",
       "\t<tr><td>Electronics</td><td>20600</td></tr>\n",
       "\t<tr><td>Wearables  </td><td> 3800</td></tr>\n",
       "\t<tr><td>Accessories</td><td> 2600</td></tr>\n",
       "</tbody>\n",
       "</table>\n"
      ],
      "text/latex": [
       "A tibble: 3 × 2\n",
       "\\begin{tabular}{ll}\n",
       " category & total\\_sales\\\\\n",
       " <chr> & <dbl>\\\\\n",
       "\\hline\n",
       "\t Electronics & 20600\\\\\n",
       "\t Wearables   &  3800\\\\\n",
       "\t Accessories &  2600\\\\\n",
       "\\end{tabular}\n"
      ],
      "text/markdown": [
       "\n",
       "A tibble: 3 × 2\n",
       "\n",
       "| category &lt;chr&gt; | total_sales &lt;dbl&gt; |\n",
       "|---|---|\n",
       "| Electronics | 20600 |\n",
       "| Wearables   |  3800 |\n",
       "| Accessories |  2600 |\n",
       "\n"
      ],
      "text/plain": [
       "  category    total_sales\n",
       "1 Electronics 20600      \n",
       "2 Wearables    3800      \n",
       "3 Accessories  2600      "
      ]
     },
     "metadata": {},
     "output_type": "display_data"
    }
   ],
   "source": [
    "#Analysis 4: Category-wise sales breakdown\n",
    "\n",
    "sales_data %>% \n",
    "  group_by(category) %>% \n",
    "  summarise(total_sales = sum(sales)) %>% \n",
    "  arrange(desc(total_sales))"
   ]
  },
  {
   "cell_type": "markdown",
   "id": "8950c0e9-59cb-41d9-85f6-13b6cf7bca78",
   "metadata": {},
   "source": [
    "3) Healthcare and Epidemiology Analysis\n",
    "   \n",
    "   Healthcare and epidemiology analytics help in monitoring patient records, disease         outbreaks, and hospital efficiency."
   ]
  },
  {
   "cell_type": "code",
   "execution_count": 13,
   "id": "0e9ec5ea-5569-4a11-88f8-4ab5f4ad25c3",
   "metadata": {
    "vscode": {
     "languageId": "r"
    }
   },
   "outputs": [
    {
     "data": {
      "text/html": [
       "<table class=\"dataframe\">\n",
       "<caption>A data.frame: 6 × 7</caption>\n",
       "<thead>\n",
       "\t<tr><th></th><th scope=col>patient_id</th><th scope=col>age</th><th scope=col>gender</th><th scope=col>disease</th><th scope=col>hospital</th><th scope=col>stay_length</th><th scope=col>treatment_cost</th></tr>\n",
       "\t<tr><th></th><th scope=col>&lt;int&gt;</th><th scope=col>&lt;dbl&gt;</th><th scope=col>&lt;chr&gt;</th><th scope=col>&lt;chr&gt;</th><th scope=col>&lt;chr&gt;</th><th scope=col>&lt;dbl&gt;</th><th scope=col>&lt;dbl&gt;</th></tr>\n",
       "</thead>\n",
       "<tbody>\n",
       "\t<tr><th scope=row>1</th><td>1</td><td>45</td><td>Male  </td><td>Diabetes     </td><td>General Hospital</td><td> 5</td><td>1500</td></tr>\n",
       "\t<tr><th scope=row>2</th><td>2</td><td>67</td><td>Female</td><td>Hypertension </td><td>City Hospital   </td><td> 7</td><td>2500</td></tr>\n",
       "\t<tr><th scope=row>3</th><td>3</td><td>23</td><td>Male  </td><td>Asthma       </td><td>General Hospital</td><td> 3</td><td>1200</td></tr>\n",
       "\t<tr><th scope=row>4</th><td>4</td><td>56</td><td>Female</td><td>Heart Disease</td><td>City Hospital   </td><td>10</td><td>5000</td></tr>\n",
       "\t<tr><th scope=row>5</th><td>5</td><td>34</td><td>Male  </td><td>Diabetes     </td><td>General Hospital</td><td> 4</td><td>1800</td></tr>\n",
       "\t<tr><th scope=row>6</th><td>6</td><td>78</td><td>Female</td><td>Hypertension </td><td>City Hospital   </td><td> 6</td><td>2700</td></tr>\n",
       "</tbody>\n",
       "</table>\n"
      ],
      "text/latex": [
       "A data.frame: 6 × 7\n",
       "\\begin{tabular}{r|lllllll}\n",
       "  & patient\\_id & age & gender & disease & hospital & stay\\_length & treatment\\_cost\\\\\n",
       "  & <int> & <dbl> & <chr> & <chr> & <chr> & <dbl> & <dbl>\\\\\n",
       "\\hline\n",
       "\t1 & 1 & 45 & Male   & Diabetes      & General Hospital &  5 & 1500\\\\\n",
       "\t2 & 2 & 67 & Female & Hypertension  & City Hospital    &  7 & 2500\\\\\n",
       "\t3 & 3 & 23 & Male   & Asthma        & General Hospital &  3 & 1200\\\\\n",
       "\t4 & 4 & 56 & Female & Heart Disease & City Hospital    & 10 & 5000\\\\\n",
       "\t5 & 5 & 34 & Male   & Diabetes      & General Hospital &  4 & 1800\\\\\n",
       "\t6 & 6 & 78 & Female & Hypertension  & City Hospital    &  6 & 2700\\\\\n",
       "\\end{tabular}\n"
      ],
      "text/markdown": [
       "\n",
       "A data.frame: 6 × 7\n",
       "\n",
       "| <!--/--> | patient_id &lt;int&gt; | age &lt;dbl&gt; | gender &lt;chr&gt; | disease &lt;chr&gt; | hospital &lt;chr&gt; | stay_length &lt;dbl&gt; | treatment_cost &lt;dbl&gt; |\n",
       "|---|---|---|---|---|---|---|---|\n",
       "| 1 | 1 | 45 | Male   | Diabetes      | General Hospital |  5 | 1500 |\n",
       "| 2 | 2 | 67 | Female | Hypertension  | City Hospital    |  7 | 2500 |\n",
       "| 3 | 3 | 23 | Male   | Asthma        | General Hospital |  3 | 1200 |\n",
       "| 4 | 4 | 56 | Female | Heart Disease | City Hospital    | 10 | 5000 |\n",
       "| 5 | 5 | 34 | Male   | Diabetes      | General Hospital |  4 | 1800 |\n",
       "| 6 | 6 | 78 | Female | Hypertension  | City Hospital    |  6 | 2700 |\n",
       "\n"
      ],
      "text/plain": [
       "  patient_id age gender disease       hospital         stay_length\n",
       "1 1          45  Male   Diabetes      General Hospital  5         \n",
       "2 2          67  Female Hypertension  City Hospital     7         \n",
       "3 3          23  Male   Asthma        General Hospital  3         \n",
       "4 4          56  Female Heart Disease City Hospital    10         \n",
       "5 5          34  Male   Diabetes      General Hospital  4         \n",
       "6 6          78  Female Hypertension  City Hospital     6         \n",
       "  treatment_cost\n",
       "1 1500          \n",
       "2 2500          \n",
       "3 1200          \n",
       "4 5000          \n",
       "5 1800          \n",
       "6 2700          "
      ]
     },
     "metadata": {},
     "output_type": "display_data"
    }
   ],
   "source": [
    "#As an example, we will do patient-data anlysis, consider a dataset 'hospital_data'.\n",
    "\n",
    "hospital_data <- data.frame(\n",
    "  patient_id = 1:20,  # Unique patient IDs\n",
    "  age = c(45, 67, 23, 56, 34, 78, 54, 61, 29, 50, \n",
    "          68, 40, 33, 71, 25, 80, 58, 47, 62, 38),  # Age of patients\n",
    "  gender = c(\"Male\", \"Female\", \"Male\", \"Female\", \"Male\", \"Female\", \"Male\", \n",
    "             \"Female\", \"Male\", \"Female\", \"Male\", \"Female\", \"Male\", \"Female\", \n",
    "             \"Male\", \"Female\", \"Male\", \"Female\", \"Male\", \"Female\"),  # Gender\n",
    "  disease = c(\"Diabetes\", \"Hypertension\", \"Asthma\", \"Heart Disease\", \"Diabetes\",\n",
    "              \"Hypertension\", \"Asthma\", \"Heart Disease\", \"Diabetes\", \"Hypertension\",\n",
    "              \"Asthma\", \"Heart Disease\", \"Diabetes\", \"Hypertension\", \"Asthma\", \n",
    "              \"Heart Disease\", \"Diabetes\", \"Hypertension\", \"Asthma\", \"Heart Disease\"),  # Disease category\n",
    "  hospital = c(\"General Hospital\", \"City Hospital\", \"General Hospital\", \"City Hospital\",\n",
    "               \"General Hospital\", \"City Hospital\", \"General Hospital\", \"City Hospital\",\n",
    "               \"General Hospital\", \"City Hospital\", \"General Hospital\", \"City Hospital\",\n",
    "               \"General Hospital\", \"City Hospital\", \"General Hospital\", \"City Hospital\",\n",
    "               \"General Hospital\", \"City Hospital\", \"General Hospital\", \"City Hospital\"),  # Hospital name\n",
    "  stay_length = c(5, 7, 3, 10, 4, 6, 2, 8, 5, 9, \n",
    "                  7, 4, 3, 6, 2, 11, 8, 5, 6, 3),  # Number of days admitted\n",
    "  treatment_cost = c(1500, 2500, 1200, 5000, 1800, 2700, 1100, 4500, 1600, 3000,\n",
    "                     2200, 4000, 1400, 2800, 1300, 5500, 2900, 2100, 3200, 1700)  # Cost of treatment\n",
    ")\n",
    "\n",
    "# Viewing the first few rows of the dataset\n",
    "head(hospital_data)"
   ]
  },
  {
   "cell_type": "code",
   "execution_count": 14,
   "id": "92852933-f6e9-4088-9f64-86467f2ebd63",
   "metadata": {
    "vscode": {
     "languageId": "r"
    }
   },
   "outputs": [
    {
     "data": {
      "text/html": [
       "<table class=\"dataframe\">\n",
       "<caption>A tibble: 4 × 2</caption>\n",
       "<thead>\n",
       "\t<tr><th scope=col>disease</th><th scope=col>avg_stay</th></tr>\n",
       "\t<tr><th scope=col>&lt;chr&gt;</th><th scope=col>&lt;dbl&gt;</th></tr>\n",
       "</thead>\n",
       "<tbody>\n",
       "\t<tr><td>Asthma       </td><td>4.0</td></tr>\n",
       "\t<tr><td>Diabetes     </td><td>5.0</td></tr>\n",
       "\t<tr><td>Heart Disease</td><td>7.2</td></tr>\n",
       "\t<tr><td>Hypertension </td><td>6.6</td></tr>\n",
       "</tbody>\n",
       "</table>\n"
      ],
      "text/latex": [
       "A tibble: 4 × 2\n",
       "\\begin{tabular}{ll}\n",
       " disease & avg\\_stay\\\\\n",
       " <chr> & <dbl>\\\\\n",
       "\\hline\n",
       "\t Asthma        & 4.0\\\\\n",
       "\t Diabetes      & 5.0\\\\\n",
       "\t Heart Disease & 7.2\\\\\n",
       "\t Hypertension  & 6.6\\\\\n",
       "\\end{tabular}\n"
      ],
      "text/markdown": [
       "\n",
       "A tibble: 4 × 2\n",
       "\n",
       "| disease &lt;chr&gt; | avg_stay &lt;dbl&gt; |\n",
       "|---|---|\n",
       "| Asthma        | 4.0 |\n",
       "| Diabetes      | 5.0 |\n",
       "| Heart Disease | 7.2 |\n",
       "| Hypertension  | 6.6 |\n",
       "\n"
      ],
      "text/plain": [
       "  disease       avg_stay\n",
       "1 Asthma        4.0     \n",
       "2 Diabetes      5.0     \n",
       "3 Heart Disease 7.2     \n",
       "4 Hypertension  6.6     "
      ]
     },
     "metadata": {},
     "output_type": "display_data"
    }
   ],
   "source": [
    "#Analysis 1: Finding average hospital stay by disease.\n",
    "# This helps in identifying diseases that require longer hospitalization.\n",
    "\n",
    "hospital_data %>% \n",
    "  group_by(disease) %>% \n",
    "  summarise(avg_stay = mean(stay_length))"
   ]
  },
  {
   "cell_type": "code",
   "execution_count": 15,
   "id": "5adbf51d-84ce-4258-8c4b-429bb9af5684",
   "metadata": {
    "vscode": {
     "languageId": "r"
    }
   },
   "outputs": [
    {
     "data": {
      "text/html": [
       "<table class=\"dataframe\">\n",
       "<caption>A tibble: 2 × 2</caption>\n",
       "<thead>\n",
       "\t<tr><th scope=col>hospital</th><th scope=col>total_cost</th></tr>\n",
       "\t<tr><th scope=col>&lt;chr&gt;</th><th scope=col>&lt;dbl&gt;</th></tr>\n",
       "</thead>\n",
       "<tbody>\n",
       "\t<tr><td>City Hospital   </td><td>33800</td></tr>\n",
       "\t<tr><td>General Hospital</td><td>18200</td></tr>\n",
       "</tbody>\n",
       "</table>\n"
      ],
      "text/latex": [
       "A tibble: 2 × 2\n",
       "\\begin{tabular}{ll}\n",
       " hospital & total\\_cost\\\\\n",
       " <chr> & <dbl>\\\\\n",
       "\\hline\n",
       "\t City Hospital    & 33800\\\\\n",
       "\t General Hospital & 18200\\\\\n",
       "\\end{tabular}\n"
      ],
      "text/markdown": [
       "\n",
       "A tibble: 2 × 2\n",
       "\n",
       "| hospital &lt;chr&gt; | total_cost &lt;dbl&gt; |\n",
       "|---|---|\n",
       "| City Hospital    | 33800 |\n",
       "| General Hospital | 18200 |\n",
       "\n"
      ],
      "text/plain": [
       "  hospital         total_cost\n",
       "1 City Hospital    33800     \n",
       "2 General Hospital 18200     "
      ]
     },
     "metadata": {},
     "output_type": "display_data"
    }
   ],
   "source": [
    "#Analysis 2: Total treatment cost by hospital.\n",
    "# This helps analyze which hospitals have the highest treatment expenses.\n",
    "\n",
    "hospital_data %>% \n",
    "  group_by(hospital) %>% \n",
    "  summarise(total_cost = sum(treatment_cost)) %>% \n",
    "  arrange(desc(total_cost))"
   ]
  },
  {
   "cell_type": "code",
   "execution_count": 16,
   "id": "4675dd85-4c83-445d-8a4c-e76636e0d4f1",
   "metadata": {
    "vscode": {
     "languageId": "r"
    }
   },
   "outputs": [
    {
     "data": {
      "text/html": [
       "<table class=\"dataframe\">\n",
       "<caption>A tibble: 2 × 2</caption>\n",
       "<thead>\n",
       "\t<tr><th scope=col>gender</th><th scope=col>avg_cost</th></tr>\n",
       "\t<tr><th scope=col>&lt;chr&gt;</th><th scope=col>&lt;dbl&gt;</th></tr>\n",
       "</thead>\n",
       "<tbody>\n",
       "\t<tr><td>Female</td><td>3380</td></tr>\n",
       "\t<tr><td>Male  </td><td>1820</td></tr>\n",
       "</tbody>\n",
       "</table>\n"
      ],
      "text/latex": [
       "A tibble: 2 × 2\n",
       "\\begin{tabular}{ll}\n",
       " gender & avg\\_cost\\\\\n",
       " <chr> & <dbl>\\\\\n",
       "\\hline\n",
       "\t Female & 3380\\\\\n",
       "\t Male   & 1820\\\\\n",
       "\\end{tabular}\n"
      ],
      "text/markdown": [
       "\n",
       "A tibble: 2 × 2\n",
       "\n",
       "| gender &lt;chr&gt; | avg_cost &lt;dbl&gt; |\n",
       "|---|---|\n",
       "| Female | 3380 |\n",
       "| Male   | 1820 |\n",
       "\n"
      ],
      "text/plain": [
       "  gender avg_cost\n",
       "1 Female 3380    \n",
       "2 Male   1820    "
      ]
     },
     "metadata": {},
     "output_type": "display_data"
    }
   ],
   "source": [
    "#Analysis 3: Gender-wise average treatment cost.\n",
    "# This can reveal trends in treatment costs between male and female patients.\n",
    "\n",
    "hospital_data %>% \n",
    "  group_by(gender) %>% \n",
    "  summarise(avg_cost = mean(treatment_cost))"
   ]
  },
  {
   "cell_type": "code",
   "execution_count": 17,
   "id": "a05645b6-4c26-40a9-ac9b-f607fe62c085",
   "metadata": {
    "vscode": {
     "languageId": "r"
    }
   },
   "outputs": [
    {
     "data": {
      "text/html": [
       "<table class=\"dataframe\">\n",
       "<caption>A data.frame: 4 × 2</caption>\n",
       "<thead>\n",
       "\t<tr><th scope=col>disease</th><th scope=col>n</th></tr>\n",
       "\t<tr><th scope=col>&lt;chr&gt;</th><th scope=col>&lt;int&gt;</th></tr>\n",
       "</thead>\n",
       "<tbody>\n",
       "\t<tr><td>Asthma       </td><td>5</td></tr>\n",
       "\t<tr><td>Diabetes     </td><td>5</td></tr>\n",
       "\t<tr><td>Heart Disease</td><td>5</td></tr>\n",
       "\t<tr><td>Hypertension </td><td>5</td></tr>\n",
       "</tbody>\n",
       "</table>\n"
      ],
      "text/latex": [
       "A data.frame: 4 × 2\n",
       "\\begin{tabular}{ll}\n",
       " disease & n\\\\\n",
       " <chr> & <int>\\\\\n",
       "\\hline\n",
       "\t Asthma        & 5\\\\\n",
       "\t Diabetes      & 5\\\\\n",
       "\t Heart Disease & 5\\\\\n",
       "\t Hypertension  & 5\\\\\n",
       "\\end{tabular}\n"
      ],
      "text/markdown": [
       "\n",
       "A data.frame: 4 × 2\n",
       "\n",
       "| disease &lt;chr&gt; | n &lt;int&gt; |\n",
       "|---|---|\n",
       "| Asthma        | 5 |\n",
       "| Diabetes      | 5 |\n",
       "| Heart Disease | 5 |\n",
       "| Hypertension  | 5 |\n",
       "\n"
      ],
      "text/plain": [
       "  disease       n\n",
       "1 Asthma        5\n",
       "2 Diabetes      5\n",
       "3 Heart Disease 5\n",
       "4 Hypertension  5"
      ]
     },
     "metadata": {},
     "output_type": "display_data"
    }
   ],
   "source": [
    "#Analysis 4: Most commonly treated diseases.\n",
    "# This shows the frequency of different diseases in the dataset.\n",
    "hospital_data %>% \n",
    "  count(disease) %>% \n",
    "  arrange(desc(n))"
   ]
  },
  {
   "cell_type": "markdown",
   "id": "465238da-07a3-4dd8-a39d-46e2c9d10a74",
   "metadata": {},
   "source": [
    "4) Geospatial analysis\n",
    "   \n",
    "   Geospatial analysis involves studying location-based data to identify trends,             patterns, and relationships across different regions."
   ]
  },
  {
   "cell_type": "code",
   "execution_count": 18,
   "id": "2d06f93d-5fd2-44b9-abfc-12c2b1a32a7d",
   "metadata": {
    "vscode": {
     "languageId": "r"
    }
   },
   "outputs": [
    {
     "data": {
      "text/html": [
       "<table class=\"dataframe\">\n",
       "<caption>A data.frame: 6 × 7</caption>\n",
       "<thead>\n",
       "\t<tr><th></th><th scope=col>city</th><th scope=col>state</th><th scope=col>latitude</th><th scope=col>longitude</th><th scope=col>pm2_5</th><th scope=col>pm10</th><th scope=col>aqi</th></tr>\n",
       "\t<tr><th></th><th scope=col>&lt;chr&gt;</th><th scope=col>&lt;chr&gt;</th><th scope=col>&lt;dbl&gt;</th><th scope=col>&lt;dbl&gt;</th><th scope=col>&lt;dbl&gt;</th><th scope=col>&lt;dbl&gt;</th><th scope=col>&lt;dbl&gt;</th></tr>\n",
       "</thead>\n",
       "<tbody>\n",
       "\t<tr><th scope=row>1</th><td>New York    </td><td>NY</td><td>40.71</td><td> -74.01</td><td>12</td><td>30</td><td> 45</td></tr>\n",
       "\t<tr><th scope=row>2</th><td>Los Angeles </td><td>CA</td><td>34.05</td><td>-118.24</td><td>25</td><td>50</td><td>110</td></tr>\n",
       "\t<tr><th scope=row>3</th><td>Chicago     </td><td>IL</td><td>41.87</td><td> -87.62</td><td>18</td><td>40</td><td> 70</td></tr>\n",
       "\t<tr><th scope=row>4</th><td>Houston     </td><td>TX</td><td>29.76</td><td> -95.37</td><td>30</td><td>55</td><td>130</td></tr>\n",
       "\t<tr><th scope=row>5</th><td>Phoenix     </td><td>AZ</td><td>33.44</td><td>-112.07</td><td>22</td><td>45</td><td> 95</td></tr>\n",
       "\t<tr><th scope=row>6</th><td>Philadelphia</td><td>PA</td><td>39.95</td><td> -75.17</td><td>15</td><td>35</td><td> 55</td></tr>\n",
       "</tbody>\n",
       "</table>\n"
      ],
      "text/latex": [
       "A data.frame: 6 × 7\n",
       "\\begin{tabular}{r|lllllll}\n",
       "  & city & state & latitude & longitude & pm2\\_5 & pm10 & aqi\\\\\n",
       "  & <chr> & <chr> & <dbl> & <dbl> & <dbl> & <dbl> & <dbl>\\\\\n",
       "\\hline\n",
       "\t1 & New York     & NY & 40.71 &  -74.01 & 12 & 30 &  45\\\\\n",
       "\t2 & Los Angeles  & CA & 34.05 & -118.24 & 25 & 50 & 110\\\\\n",
       "\t3 & Chicago      & IL & 41.87 &  -87.62 & 18 & 40 &  70\\\\\n",
       "\t4 & Houston      & TX & 29.76 &  -95.37 & 30 & 55 & 130\\\\\n",
       "\t5 & Phoenix      & AZ & 33.44 & -112.07 & 22 & 45 &  95\\\\\n",
       "\t6 & Philadelphia & PA & 39.95 &  -75.17 & 15 & 35 &  55\\\\\n",
       "\\end{tabular}\n"
      ],
      "text/markdown": [
       "\n",
       "A data.frame: 6 × 7\n",
       "\n",
       "| <!--/--> | city &lt;chr&gt; | state &lt;chr&gt; | latitude &lt;dbl&gt; | longitude &lt;dbl&gt; | pm2_5 &lt;dbl&gt; | pm10 &lt;dbl&gt; | aqi &lt;dbl&gt; |\n",
       "|---|---|---|---|---|---|---|---|\n",
       "| 1 | New York     | NY | 40.71 |  -74.01 | 12 | 30 |  45 |\n",
       "| 2 | Los Angeles  | CA | 34.05 | -118.24 | 25 | 50 | 110 |\n",
       "| 3 | Chicago      | IL | 41.87 |  -87.62 | 18 | 40 |  70 |\n",
       "| 4 | Houston      | TX | 29.76 |  -95.37 | 30 | 55 | 130 |\n",
       "| 5 | Phoenix      | AZ | 33.44 | -112.07 | 22 | 45 |  95 |\n",
       "| 6 | Philadelphia | PA | 39.95 |  -75.17 | 15 | 35 |  55 |\n",
       "\n"
      ],
      "text/plain": [
       "  city         state latitude longitude pm2_5 pm10 aqi\n",
       "1 New York     NY    40.71     -74.01   12    30    45\n",
       "2 Los Angeles  CA    34.05    -118.24   25    50   110\n",
       "3 Chicago      IL    41.87     -87.62   18    40    70\n",
       "4 Houston      TX    29.76     -95.37   30    55   130\n",
       "5 Phoenix      AZ    33.44    -112.07   22    45    95\n",
       "6 Philadelphia PA    39.95     -75.17   15    35    55"
      ]
     },
     "metadata": {},
     "output_type": "display_data"
    }
   ],
   "source": [
    "#As an example, we will do air pollution anaylsis. For which, consider a dataset 'air_quality_data'\n",
    "\n",
    "air_quality_data <- data.frame(\n",
    "  city = c(\"New York\", \"Los Angeles\", \"Chicago\", \"Houston\", \"Phoenix\", \n",
    "           \"Philadelphia\", \"San Antonio\", \"San Diego\", \"Dallas\", \"San Jose\"),\n",
    "  state = c(\"NY\", \"CA\", \"IL\", \"TX\", \"AZ\", \"PA\", \"TX\", \"CA\", \"TX\", \"CA\"),\n",
    "  latitude = c(40.71, 34.05, 41.87, 29.76, 33.44, 39.95, 29.42, 32.71, 32.78, 37.33),\n",
    "  longitude = c(-74.01, -118.24, -87.62, -95.37, -112.07, -75.17, -98.49, -117.16, -96.80, -121.88),\n",
    "  pm2_5 = c(12, 25, 18, 30, 22, 15, 35, 20, 28, 14),  # Fine particulate matter\n",
    "  pm10 = c(30, 50, 40, 55, 45, 35, 65, 38, 52, 33),  # Larger particulate matter\n",
    "  aqi = c(45, 110, 70, 130, 95, 55, 150, 78, 125, 48)  # Air Quality Index\n",
    ")\n",
    "\n",
    "# Viewing the first few rows of the dataset\n",
    "head(air_quality_data)"
   ]
  },
  {
   "cell_type": "code",
   "execution_count": 19,
   "id": "e4687f38-f120-4c1d-a776-868d46d6a7b1",
   "metadata": {
    "vscode": {
     "languageId": "r"
    }
   },
   "outputs": [
    {
     "data": {
      "text/html": [
       "<table class=\"dataframe\">\n",
       "<caption>A tibble: 6 × 3</caption>\n",
       "<thead>\n",
       "\t<tr><th scope=col>state</th><th scope=col>avg_pm2_5</th><th scope=col>avg_pm10</th></tr>\n",
       "\t<tr><th scope=col>&lt;chr&gt;</th><th scope=col>&lt;dbl&gt;</th><th scope=col>&lt;dbl&gt;</th></tr>\n",
       "</thead>\n",
       "<tbody>\n",
       "\t<tr><td>AZ</td><td>22.00000</td><td>45.00000</td></tr>\n",
       "\t<tr><td>CA</td><td>19.66667</td><td>40.33333</td></tr>\n",
       "\t<tr><td>IL</td><td>18.00000</td><td>40.00000</td></tr>\n",
       "\t<tr><td>NY</td><td>12.00000</td><td>30.00000</td></tr>\n",
       "\t<tr><td>PA</td><td>15.00000</td><td>35.00000</td></tr>\n",
       "\t<tr><td>TX</td><td>31.00000</td><td>57.33333</td></tr>\n",
       "</tbody>\n",
       "</table>\n"
      ],
      "text/latex": [
       "A tibble: 6 × 3\n",
       "\\begin{tabular}{lll}\n",
       " state & avg\\_pm2\\_5 & avg\\_pm10\\\\\n",
       " <chr> & <dbl> & <dbl>\\\\\n",
       "\\hline\n",
       "\t AZ & 22.00000 & 45.00000\\\\\n",
       "\t CA & 19.66667 & 40.33333\\\\\n",
       "\t IL & 18.00000 & 40.00000\\\\\n",
       "\t NY & 12.00000 & 30.00000\\\\\n",
       "\t PA & 15.00000 & 35.00000\\\\\n",
       "\t TX & 31.00000 & 57.33333\\\\\n",
       "\\end{tabular}\n"
      ],
      "text/markdown": [
       "\n",
       "A tibble: 6 × 3\n",
       "\n",
       "| state &lt;chr&gt; | avg_pm2_5 &lt;dbl&gt; | avg_pm10 &lt;dbl&gt; |\n",
       "|---|---|---|\n",
       "| AZ | 22.00000 | 45.00000 |\n",
       "| CA | 19.66667 | 40.33333 |\n",
       "| IL | 18.00000 | 40.00000 |\n",
       "| NY | 12.00000 | 30.00000 |\n",
       "| PA | 15.00000 | 35.00000 |\n",
       "| TX | 31.00000 | 57.33333 |\n",
       "\n"
      ],
      "text/plain": [
       "  state avg_pm2_5 avg_pm10\n",
       "1 AZ    22.00000  45.00000\n",
       "2 CA    19.66667  40.33333\n",
       "3 IL    18.00000  40.00000\n",
       "4 NY    12.00000  30.00000\n",
       "5 PA    15.00000  35.00000\n",
       "6 TX    31.00000  57.33333"
      ]
     },
     "metadata": {},
     "output_type": "display_data"
    },
    {
     "data": {
      "text/html": [
       "<table class=\"dataframe\">\n",
       "<caption>A data.frame: 5 × 7</caption>\n",
       "<thead>\n",
       "\t<tr><th></th><th scope=col>city</th><th scope=col>state</th><th scope=col>latitude</th><th scope=col>longitude</th><th scope=col>pm2_5</th><th scope=col>pm10</th><th scope=col>aqi</th></tr>\n",
       "\t<tr><th></th><th scope=col>&lt;chr&gt;</th><th scope=col>&lt;chr&gt;</th><th scope=col>&lt;dbl&gt;</th><th scope=col>&lt;dbl&gt;</th><th scope=col>&lt;dbl&gt;</th><th scope=col>&lt;dbl&gt;</th><th scope=col>&lt;dbl&gt;</th></tr>\n",
       "</thead>\n",
       "<tbody>\n",
       "\t<tr><th scope=row>1</th><td>San Antonio</td><td>TX</td><td>29.42</td><td> -98.49</td><td>35</td><td>65</td><td>150</td></tr>\n",
       "\t<tr><th scope=row>2</th><td>Houston    </td><td>TX</td><td>29.76</td><td> -95.37</td><td>30</td><td>55</td><td>130</td></tr>\n",
       "\t<tr><th scope=row>3</th><td>Dallas     </td><td>TX</td><td>32.78</td><td> -96.80</td><td>28</td><td>52</td><td>125</td></tr>\n",
       "\t<tr><th scope=row>4</th><td>Los Angeles</td><td>CA</td><td>34.05</td><td>-118.24</td><td>25</td><td>50</td><td>110</td></tr>\n",
       "\t<tr><th scope=row>5</th><td>Phoenix    </td><td>AZ</td><td>33.44</td><td>-112.07</td><td>22</td><td>45</td><td> 95</td></tr>\n",
       "</tbody>\n",
       "</table>\n"
      ],
      "text/latex": [
       "A data.frame: 5 × 7\n",
       "\\begin{tabular}{r|lllllll}\n",
       "  & city & state & latitude & longitude & pm2\\_5 & pm10 & aqi\\\\\n",
       "  & <chr> & <chr> & <dbl> & <dbl> & <dbl> & <dbl> & <dbl>\\\\\n",
       "\\hline\n",
       "\t1 & San Antonio & TX & 29.42 &  -98.49 & 35 & 65 & 150\\\\\n",
       "\t2 & Houston     & TX & 29.76 &  -95.37 & 30 & 55 & 130\\\\\n",
       "\t3 & Dallas      & TX & 32.78 &  -96.80 & 28 & 52 & 125\\\\\n",
       "\t4 & Los Angeles & CA & 34.05 & -118.24 & 25 & 50 & 110\\\\\n",
       "\t5 & Phoenix     & AZ & 33.44 & -112.07 & 22 & 45 &  95\\\\\n",
       "\\end{tabular}\n"
      ],
      "text/markdown": [
       "\n",
       "A data.frame: 5 × 7\n",
       "\n",
       "| <!--/--> | city &lt;chr&gt; | state &lt;chr&gt; | latitude &lt;dbl&gt; | longitude &lt;dbl&gt; | pm2_5 &lt;dbl&gt; | pm10 &lt;dbl&gt; | aqi &lt;dbl&gt; |\n",
       "|---|---|---|---|---|---|---|---|\n",
       "| 1 | San Antonio | TX | 29.42 |  -98.49 | 35 | 65 | 150 |\n",
       "| 2 | Houston     | TX | 29.76 |  -95.37 | 30 | 55 | 130 |\n",
       "| 3 | Dallas      | TX | 32.78 |  -96.80 | 28 | 52 | 125 |\n",
       "| 4 | Los Angeles | CA | 34.05 | -118.24 | 25 | 50 | 110 |\n",
       "| 5 | Phoenix     | AZ | 33.44 | -112.07 | 22 | 45 |  95 |\n",
       "\n"
      ],
      "text/plain": [
       "  city        state latitude longitude pm2_5 pm10 aqi\n",
       "1 San Antonio TX    29.42     -98.49   35    65   150\n",
       "2 Houston     TX    29.76     -95.37   30    55   130\n",
       "3 Dallas      TX    32.78     -96.80   28    52   125\n",
       "4 Los Angeles CA    34.05    -118.24   25    50   110\n",
       "5 Phoenix     AZ    33.44    -112.07   22    45    95"
      ]
     },
     "metadata": {},
     "output_type": "display_data"
    }
   ],
   "source": [
    "#Analysis 1: Average PM2.5 and PM10 levels by state, and cities with worst air quality.\n",
    "\n",
    "# This helps in understanding air quality trends at the state level as well as \n",
    "# identifying cities with worst air quality.\n",
    "\n",
    "air_quality_data %>% \n",
    "  group_by(state) %>% \n",
    "  summarise(avg_pm2_5 = mean(pm2_5), avg_pm10 = mean(pm10))\n",
    "\n",
    "air_quality_data %>% \n",
    "  arrange(desc(aqi)) %>% \n",
    "  head(5) #Top 5\n"
   ]
  },
  {
   "cell_type": "code",
   "execution_count": 20,
   "id": "28b7688a-35b8-4bfe-af34-174a331f1509",
   "metadata": {
    "vscode": {
     "languageId": "r"
    }
   },
   "outputs": [
    {
     "data": {
      "text/html": [
       "<table class=\"dataframe\">\n",
       "<caption>A data.frame: 1 × 1</caption>\n",
       "<thead>\n",
       "\t<tr><th scope=col>correlation</th></tr>\n",
       "\t<tr><th scope=col>&lt;dbl&gt;</th></tr>\n",
       "</thead>\n",
       "<tbody>\n",
       "\t<tr><td>0.9953044</td></tr>\n",
       "</tbody>\n",
       "</table>\n"
      ],
      "text/latex": [
       "A data.frame: 1 × 1\n",
       "\\begin{tabular}{l}\n",
       " correlation\\\\\n",
       " <dbl>\\\\\n",
       "\\hline\n",
       "\t 0.9953044\\\\\n",
       "\\end{tabular}\n"
      ],
      "text/markdown": [
       "\n",
       "A data.frame: 1 × 1\n",
       "\n",
       "| correlation &lt;dbl&gt; |\n",
       "|---|\n",
       "| 0.9953044 |\n",
       "\n"
      ],
      "text/plain": [
       "  correlation\n",
       "1 0.9953044  "
      ]
     },
     "metadata": {},
     "output_type": "display_data"
    }
   ],
   "source": [
    "#Analysis 2: Correlation between PM2.5 and AQI.\n",
    "# This checks how strongly PM2.5 is related to overall air quality.\n",
    "\n",
    "air_quality_data %>% \n",
    "  summarise(correlation = cor(pm2_5, aqi))"
   ]
  },
  {
   "cell_type": "code",
   "execution_count": 21,
   "id": "0f555edf-aeb1-4b26-8473-58b406b4964a",
   "metadata": {
    "vscode": {
     "languageId": "r"
    }
   },
   "outputs": [
    {
     "data": {
      "text/html": [
       "<table class=\"dataframe\">\n",
       "<caption>A grouped_df: 6 × 7</caption>\n",
       "<thead>\n",
       "\t<tr><th scope=col>city</th><th scope=col>state</th><th scope=col>latitude</th><th scope=col>longitude</th><th scope=col>pm2_5</th><th scope=col>pm10</th><th scope=col>aqi</th></tr>\n",
       "\t<tr><th scope=col>&lt;chr&gt;</th><th scope=col>&lt;chr&gt;</th><th scope=col>&lt;dbl&gt;</th><th scope=col>&lt;dbl&gt;</th><th scope=col>&lt;dbl&gt;</th><th scope=col>&lt;dbl&gt;</th><th scope=col>&lt;dbl&gt;</th></tr>\n",
       "</thead>\n",
       "<tbody>\n",
       "\t<tr><td>New York    </td><td>NY</td><td>40.71</td><td> -74.01</td><td>12</td><td>30</td><td> 45</td></tr>\n",
       "\t<tr><td>Los Angeles </td><td>CA</td><td>34.05</td><td>-118.24</td><td>25</td><td>50</td><td>110</td></tr>\n",
       "\t<tr><td>Chicago     </td><td>IL</td><td>41.87</td><td> -87.62</td><td>18</td><td>40</td><td> 70</td></tr>\n",
       "\t<tr><td>Phoenix     </td><td>AZ</td><td>33.44</td><td>-112.07</td><td>22</td><td>45</td><td> 95</td></tr>\n",
       "\t<tr><td>Philadelphia</td><td>PA</td><td>39.95</td><td> -75.17</td><td>15</td><td>35</td><td> 55</td></tr>\n",
       "\t<tr><td>San Antonio </td><td>TX</td><td>29.42</td><td> -98.49</td><td>35</td><td>65</td><td>150</td></tr>\n",
       "</tbody>\n",
       "</table>\n"
      ],
      "text/latex": [
       "A grouped\\_df: 6 × 7\n",
       "\\begin{tabular}{lllllll}\n",
       " city & state & latitude & longitude & pm2\\_5 & pm10 & aqi\\\\\n",
       " <chr> & <chr> & <dbl> & <dbl> & <dbl> & <dbl> & <dbl>\\\\\n",
       "\\hline\n",
       "\t New York     & NY & 40.71 &  -74.01 & 12 & 30 &  45\\\\\n",
       "\t Los Angeles  & CA & 34.05 & -118.24 & 25 & 50 & 110\\\\\n",
       "\t Chicago      & IL & 41.87 &  -87.62 & 18 & 40 &  70\\\\\n",
       "\t Phoenix      & AZ & 33.44 & -112.07 & 22 & 45 &  95\\\\\n",
       "\t Philadelphia & PA & 39.95 &  -75.17 & 15 & 35 &  55\\\\\n",
       "\t San Antonio  & TX & 29.42 &  -98.49 & 35 & 65 & 150\\\\\n",
       "\\end{tabular}\n"
      ],
      "text/markdown": [
       "\n",
       "A grouped_df: 6 × 7\n",
       "\n",
       "| city &lt;chr&gt; | state &lt;chr&gt; | latitude &lt;dbl&gt; | longitude &lt;dbl&gt; | pm2_5 &lt;dbl&gt; | pm10 &lt;dbl&gt; | aqi &lt;dbl&gt; |\n",
       "|---|---|---|---|---|---|---|\n",
       "| New York     | NY | 40.71 |  -74.01 | 12 | 30 |  45 |\n",
       "| Los Angeles  | CA | 34.05 | -118.24 | 25 | 50 | 110 |\n",
       "| Chicago      | IL | 41.87 |  -87.62 | 18 | 40 |  70 |\n",
       "| Phoenix      | AZ | 33.44 | -112.07 | 22 | 45 |  95 |\n",
       "| Philadelphia | PA | 39.95 |  -75.17 | 15 | 35 |  55 |\n",
       "| San Antonio  | TX | 29.42 |  -98.49 | 35 | 65 | 150 |\n",
       "\n"
      ],
      "text/plain": [
       "  city         state latitude longitude pm2_5 pm10 aqi\n",
       "1 New York     NY    40.71     -74.01   12    30    45\n",
       "2 Los Angeles  CA    34.05    -118.24   25    50   110\n",
       "3 Chicago      IL    41.87     -87.62   18    40    70\n",
       "4 Phoenix      AZ    33.44    -112.07   22    45    95\n",
       "5 Philadelphia PA    39.95     -75.17   15    35    55\n",
       "6 San Antonio  TX    29.42     -98.49   35    65   150"
      ]
     },
     "metadata": {},
     "output_type": "display_data"
    }
   ],
   "source": [
    "#Analysis 3: State-wise worst polluted city.\n",
    "\n",
    "air_quality_data %>% \n",
    "  group_by(state) %>% \n",
    "  filter(aqi == max(aqi))"
   ]
  },
  {
   "cell_type": "code",
   "execution_count": 22,
   "id": "1eaae20e-2952-41d1-aa93-746ac56e52b8",
   "metadata": {
    "vscode": {
     "languageId": "r"
    }
   },
   "outputs": [
    {
     "data": {
      "text/html": [
       "<table class=\"dataframe\">\n",
       "<caption>A data.frame: 3 × 7</caption>\n",
       "<thead>\n",
       "\t<tr><th scope=col>city</th><th scope=col>state</th><th scope=col>latitude</th><th scope=col>longitude</th><th scope=col>pm2_5</th><th scope=col>pm10</th><th scope=col>aqi</th></tr>\n",
       "\t<tr><th scope=col>&lt;chr&gt;</th><th scope=col>&lt;chr&gt;</th><th scope=col>&lt;dbl&gt;</th><th scope=col>&lt;dbl&gt;</th><th scope=col>&lt;dbl&gt;</th><th scope=col>&lt;dbl&gt;</th><th scope=col>&lt;dbl&gt;</th></tr>\n",
       "</thead>\n",
       "<tbody>\n",
       "\t<tr><td>Houston    </td><td>TX</td><td>29.76</td><td>-95.37</td><td>30</td><td>55</td><td>130</td></tr>\n",
       "\t<tr><td>San Antonio</td><td>TX</td><td>29.42</td><td>-98.49</td><td>35</td><td>65</td><td>150</td></tr>\n",
       "\t<tr><td>Dallas     </td><td>TX</td><td>32.78</td><td>-96.80</td><td>28</td><td>52</td><td>125</td></tr>\n",
       "</tbody>\n",
       "</table>\n"
      ],
      "text/latex": [
       "A data.frame: 3 × 7\n",
       "\\begin{tabular}{lllllll}\n",
       " city & state & latitude & longitude & pm2\\_5 & pm10 & aqi\\\\\n",
       " <chr> & <chr> & <dbl> & <dbl> & <dbl> & <dbl> & <dbl>\\\\\n",
       "\\hline\n",
       "\t Houston     & TX & 29.76 & -95.37 & 30 & 55 & 130\\\\\n",
       "\t San Antonio & TX & 29.42 & -98.49 & 35 & 65 & 150\\\\\n",
       "\t Dallas      & TX & 32.78 & -96.80 & 28 & 52 & 125\\\\\n",
       "\\end{tabular}\n"
      ],
      "text/markdown": [
       "\n",
       "A data.frame: 3 × 7\n",
       "\n",
       "| city &lt;chr&gt; | state &lt;chr&gt; | latitude &lt;dbl&gt; | longitude &lt;dbl&gt; | pm2_5 &lt;dbl&gt; | pm10 &lt;dbl&gt; | aqi &lt;dbl&gt; |\n",
       "|---|---|---|---|---|---|---|\n",
       "| Houston     | TX | 29.76 | -95.37 | 30 | 55 | 130 |\n",
       "| San Antonio | TX | 29.42 | -98.49 | 35 | 65 | 150 |\n",
       "| Dallas      | TX | 32.78 | -96.80 | 28 | 52 | 125 |\n",
       "\n"
      ],
      "text/plain": [
       "  city        state latitude longitude pm2_5 pm10 aqi\n",
       "1 Houston     TX    29.76    -95.37    30    55   130\n",
       "2 San Antonio TX    29.42    -98.49    35    65   150\n",
       "3 Dallas      TX    32.78    -96.80    28    52   125"
      ]
     },
     "metadata": {},
     "output_type": "display_data"
    }
   ],
   "source": [
    "#Analysis 4: Identifying cities with PM2.5 levels above the safe limit.\n",
    "# This filters out cities where PM2.5 levels exceed 25 µg/m³, which is unhealthy.\n",
    "\n",
    "air_quality_data %>% \n",
    "  filter(pm2_5 > 25)"
   ]
  }
 ],
 "metadata": {
  "kernelspec": {
   "display_name": "R",
   "language": "R",
   "name": "ir"
  },
  "language_info": {
   "codemirror_mode": "r",
   "file_extension": ".r",
   "mimetype": "text/x-r-source",
   "name": "R",
   "pygments_lexer": "r",
   "version": "4.4.2"
  }
 },
 "nbformat": 4,
 "nbformat_minor": 5
}
